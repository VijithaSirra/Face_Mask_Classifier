{
 "cells": [
  {
   "cell_type": "code",
   "execution_count": null,
   "metadata": {},
   "outputs": [],
   "source": [
    "directory_mask = \"/home/grace/Projects/FaceMask_Detection/new_with_mask/\"\n",
    "directory_without_mask = \"/home/grace/Projects/FaceMask_Detection/new_without_mask/\"\n",
    "\n",
    "path = \"/home/grace/Projects/FaceMask_Detection/Dataset/\""
   ]
  },
  {
   "cell_type": "code",
   "execution_count": null,
   "metadata": {},
   "outputs": [],
   "source": [
    "import os\n",
    "import shutil\n",
    "import cv2\n",
    "import matplotlib.pyplot as plt"
   ]
  },
  {
   "cell_type": "code",
   "execution_count": null,
   "metadata": {},
   "outputs": [],
   "source": [
    "i = 1\n",
    "for file in os.listdir(directory_mask):\n",
    "    \n",
    "    shutil.copy(directory_mask + \"/\" + file, path + \"/\" + \"0_\" + str(i) + \".jpg\")\n",
    "    i = i + 1\n",
    "    "
   ]
  },
  {
   "cell_type": "code",
   "execution_count": null,
   "metadata": {},
   "outputs": [],
   "source": [
    "for file in os.listdir(directory_without_mask):\n",
    "    \n",
    "    shutil.copy(directory_without_mask + \"/\" + file, path + \"/\" + \"1_\" + str(i) + \".jpg\")\n",
    "    i = i + 1"
   ]
  },
  {
   "cell_type": "code",
   "execution_count": null,
   "metadata": {},
   "outputs": [],
   "source": [
    "file = open(\"Train_label\",\"w\")\n",
    "for files in os.listdir(path):\n",
    "    label = files.split(\"_\")[0]\n",
    "    if label == \"0\":\n",
    "        file.write(path + \"/\" + files + \" 0\" + \"\\n\")\n",
    "    else:\n",
    "        file.write(path + \"/\" + files + \" 1\" + \"\\n\")\n",
    "file.close()\n",
    "    "
   ]
  },
  {
   "cell_type": "code",
   "execution_count": null,
   "metadata": {},
   "outputs": [],
   "source": []
  }
 ],
 "metadata": {
  "kernelspec": {
   "display_name": "Python 3",
   "language": "python",
   "name": "python3"
  },
  "language_info": {
   "codemirror_mode": {
    "name": "ipython",
    "version": 3
   },
   "file_extension": ".py",
   "mimetype": "text/x-python",
   "name": "python",
   "nbconvert_exporter": "python",
   "pygments_lexer": "ipython3",
   "version": "3.6.9"
  }
 },
 "nbformat": 4,
 "nbformat_minor": 4
}
